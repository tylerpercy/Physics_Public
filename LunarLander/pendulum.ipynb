{
 "cells": [
  {
   "cell_type": "markdown",
   "metadata": {},
   "source": [
    "# Pendulum\n",
    "\n",
    "A pendulum is composed of a lightweight rigid rod of length $R$ and a small-radius ball of mass $m$. The pendulum rotates about the origin at an angle $\\theta$ defined with respect to the vertical.\n",
    "\n",
    "![](pendulum.png)\n",
    "\n",
    "<font size=-1>(image credit: Ruth Chabay and Bruce Sherwood)</font>\n",
    "\n",
    "The translational angular momentum of the ball about the pivot $P$ is in the z direction (outward/inward) and has a magnitude\n",
    "\n",
    "$$|\\vec{L}_P| = mvR$$\n",
    "\n",
    "The linear speed of the pendulum (ball) is related to its angular speed $\\omega$ about point P.\n",
    "\n",
    "$$v=R\\omega$$\n",
    "\n",
    "Substituting this into the angular momentum gives:\n",
    "\n",
    "$$|\\vec{L}_P| = mR^2\\omega $$\n",
    "\n",
    "Define the angular velocity vector to be in the same direction as the angular momentum $\\vec{L}$. Then\n",
    "\n",
    "$$L_{P,z} = mR^2\\omega_z $$\n",
    "\n",
    "where $\\omega_z$ can be positive or negative, with positive defined outward and corresponds to counterclockwise rotation around P.\n",
    "\n",
    "Apply the Angular Momentum Principle about the pivot. \n",
    "\n",
    "$$\\tau_{P,z} = \\frac{dL_{P,z}}{dt}$$\n",
    "\n",
    "$$\\tau_{P,z} = mR^2\\frac{d\\omega_{z}}{dt}$$\n",
    "\n",
    "The torque is due to the gravitational force alone and is\n",
    "\n",
    "$$\\vec{\\tau_{P}} = \\vec{r} \\times \\vec{F}_{grav}$$\n",
    "\n",
    "with a z-component equal to\n",
    "\n",
    "$$\\tau_{P,z} = -mgR\\sin(\\theta)$$\n",
    "\n",
    "Substituting this into the Angular Momentum Principle gives\n",
    "\n",
    "$$-mgR\\sin(\\theta) = mR^2\\frac{d\\omega_{z}}{dt}$$\n",
    "\n",
    "We now have a differential equation for $\\omega_z$:\n",
    "\n",
    "$$\\frac{d\\omega_{z}}{dt} = -\\frac{g}{R}\\sin(\\theta)$$\n",
    "\n",
    "The angular velocity is the rate of change in the angle. This is our second ODE.\n",
    "\n",
    "$$\\omega_z = \\frac{d\\theta}{dt}$$\n",
    "\n"
   ]
  },
  {
   "cell_type": "markdown",
   "metadata": {},
   "source": [
    "## Plan\n",
    "\n",
    "The two differential equations above, along with the assumptions we made, are *our model*. Now, let's *model* it!\n",
    "\n",
    "First, let's develop a plan.\n",
    "\n",
    "- Our dependent variables are `theta` and `omega`.\n",
    "- Use an array `data = [theta, omega]` to store the instantaneous values of `theta` and `omega`.\n",
    "- Use an ODE function for calculating the value of ODEs at an instant. In this function, use an array `rate` to define the time-derivatives $\\frac{d\\theta}{dt}$ and $\\frac{d\\omega_{z}}{dt}$ for our ODEs. Thus in terms of variables this array would be something like:\n",
    "\n",
    "```\n",
    "rate[0] = omega\n",
    "rate[1] = -g/R*np.sin(theta)\n",
    "```\n",
    "\n",
    "- The output will be:\n",
    "\n",
    "  - graphs $\\theta$ vs. $t$ and $\\omega$ vs. $t$\n",
    "  - VPython animation\n",
    "\n",
    "- To accomplish this, we need arrays to store the values of `theta`, `t`, and `omega` at each time step.\n",
    "- Reasonable sizes of variables in units of N, m, and s are: $g=10$ and $R=1$. \n",
    "- Reasonable initial conditions are: $\\theta=\\pi/2$ and $\\omega=0$.\n",
    "- A small time step is probably around 0.01 s if the period is a few seconds.\n",
    "\n",
    "### Use your ODE library to solve the model\n",
    "\n",
    "You can copy your `ode.py` file to the directory with this notebook. Or you can put all of your library files in `site-packages` in your python path. See [Wang's instructions](http://www.faculty.umassd.edu/j.wang/book/libs/libs.htm) for details."
   ]
  },
  {
   "cell_type": "code",
   "execution_count": 3,
   "metadata": {},
   "outputs": [],
   "source": [
    "#import ode #if you have ode.py in the same folder as your notebook\n",
    "import ode\n",
    "#import compy.ode as cp #if you followed Wang's instructions to put your library in site-packages\n",
    "import numpy as np\n",
    "import matplotlib.pyplot as plt"
   ]
  },
  {
   "cell_type": "code",
   "execution_count": 1,
   "metadata": {},
   "outputs": [
    {
     "ename": "NameError",
     "evalue": "name 'cp' is not defined",
     "output_type": "error",
     "traceback": [
      "\u001b[0;31m---------------------------------------------------------------------------\u001b[0m",
      "\u001b[0;31mNameError\u001b[0m                                 Traceback (most recent call last)",
      "\u001b[0;32m<ipython-input-1-34b6494fd810>\u001b[0m in \u001b[0;36m<module>\u001b[0;34m\u001b[0m\n\u001b[1;32m     40\u001b[0m \u001b[0;34m\u001b[0m\u001b[0m\n\u001b[1;32m     41\u001b[0m     \u001b[0;31m# update data\u001b[0m\u001b[0;34m\u001b[0m\u001b[0;34m\u001b[0m\u001b[0;34m\u001b[0m\u001b[0m\n\u001b[0;32m---> 42\u001b[0;31m     \u001b[0mdata\u001b[0m \u001b[0;34m=\u001b[0m \u001b[0mcp\u001b[0m\u001b[0;34m.\u001b[0m\u001b[0mRK4\u001b[0m\u001b[0;34m(\u001b[0m\u001b[0mpendulum\u001b[0m\u001b[0;34m,\u001b[0m \u001b[0mdata\u001b[0m\u001b[0;34m,\u001b[0m \u001b[0mt\u001b[0m\u001b[0;34m,\u001b[0m \u001b[0mh\u001b[0m\u001b[0;34m)\u001b[0m\u001b[0;34m\u001b[0m\u001b[0;34m\u001b[0m\u001b[0m\n\u001b[0m\u001b[1;32m     43\u001b[0m \u001b[0;34m\u001b[0m\u001b[0m\n\u001b[1;32m     44\u001b[0m     \u001b[0;31m# update time\u001b[0m\u001b[0;34m\u001b[0m\u001b[0;34m\u001b[0m\u001b[0;34m\u001b[0m\u001b[0m\n",
      "\u001b[0;31mNameError\u001b[0m: name 'cp' is not defined"
     ]
    }
   ],
   "source": [
    "import ode\n",
    "import numpy as np\n",
    "import matplotlib.pyplot as plt\n",
    "\n",
    "def pendulum(d, tn):\n",
    "    # d is an array of values of dependent variables\n",
    "    # tn is the time at the beginning of this time step\n",
    "    # return: an array of first-order ODEs corresponding to each variable\n",
    "    \n",
    "    rate = np.zeros(2) #shape must correspond to d\n",
    "    rate[0] = d[1] # dtheta/dt = omega\n",
    "    rate[1] = -g/R*np.sin(d[0]) # domega/dt = -g/R*np.sin(theta)\n",
    "    \n",
    "    return rate\n",
    "\n",
    "g = 10\n",
    "R = 1\n",
    "theta0 = np.pi/2\n",
    "omega0 = 0\n",
    "\n",
    "data = np.array([theta0, omega0]) #initialize dependent variables\n",
    "\n",
    "#dependent variable\n",
    "t = 0\n",
    "h = 0.01\n",
    "Nsteps = int(5/h) #N steps for N seconds of evolution\n",
    "\n",
    "#initialize arrays for storing data\n",
    "tarr = np.zeros(Nsteps)\n",
    "thetaarr = np.zeros(Nsteps)\n",
    "omegaarr = np.zeros(Nsteps)\n",
    "\n",
    "#store initial values at t = 0\n",
    "tarr[0] = t\n",
    "thetaarr[0] = data[0]\n",
    "omegaarr[0] = data[1]\n",
    "\n",
    "#iterate\n",
    "for n in range(0,Nsteps-1):\n",
    "    \n",
    "    # update data\n",
    "    data = cp.RK4(pendulum, data, t, h)\n",
    "    \n",
    "    # update time\n",
    "    t = t + h\n",
    "    \n",
    "    #store values\n",
    "    tarr[n+1] = t\n",
    "    thetaarr[n+1] = data[0]\n",
    "    omegaarr[n+1] = data[1]\n"
   ]
  },
  {
   "cell_type": "code",
   "execution_count": 11,
   "metadata": {},
   "outputs": [
    {
     "data": {
      "image/png": "[encoded data removed]",
      "text/plain": [
       "<Figure size 432x288 with 1 Axes>"
      ]
     },
     "metadata": {
      "needs_background": "light"
     },
     "output_type": "display_data"
    }
   ],
   "source": [
    "fig = plt.figure()\n",
    "plt.title(\"Pendulum\")\n",
    "plt.plot(tarr,thetaarr, 'b-', label=' RK4 method')\n",
    "plt.xlabel('t (s)')\n",
    "plt.ylabel('$\\\\theta$ (rad)')\n",
    "plt.legend()\n",
    "plt.show()"
   ]
  },
  {
   "cell_type": "markdown",
   "metadata": {},
   "source": [
    "## Use the model to make predictions\n",
    "\n",
    "1. How can we verify the model?\n",
    "2. What should we explore?"
   ]
  },
  {
   "cell_type": "code",
   "execution_count": null,
   "metadata": {},
   "outputs": [],
   "source": []
  }
 ],
 "metadata": {
  "kernelspec": {
   "display_name": "Python 3",
   "language": "python",
   "name": "python3"
  },
  "language_info": {
   "codemirror_mode": {
    "name": "ipython",
    "version": 3
   },
   "file_extension": ".py",
   "mimetype": "text/x-python",
   "name": "python",
   "nbconvert_exporter": "python",
   "pygments_lexer": "ipython3",
   "version": "3.9.1"
  }
 },
 "nbformat": 4,
 "nbformat_minor": 4
}
