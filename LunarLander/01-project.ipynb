{
 "cells": [
  {
   "cell_type": "markdown",
   "metadata": {},
   "source": [
    "# Unit 01 Project - Solving Ordinary Differential Equations\n",
    "\n",
    "The purpose of this \"mini project\" is to demonstrate that you can solve ODEs.\n",
    "\n",
    "We will refer to the system and the set of ODEs that describe the system as the *model*. Your project should:\n",
    "\n",
    "- describe relevant background theory for your model and use LaTeX to render mathematical notation. Cite any sources used.\n",
    "- import your `ode.py` file and use different numerical methods such as `Euler`, `RK2`, and `RK4`.\n",
    "- graph data and/or animate motion to describe the results of the model.\n",
    "- choose questions to explore with your model.\n",
    "- discuss validation. What gives you confidence in your results? What happens to energy after many iterations (this gives you a sense of the error in your numerical solution)? How does the accuracy or prediction depend on your choice of time step $h$?\n",
    "\n",
    "\n",
    "<div class=\"alert alert-success\">\n",
    "The mini-project should be of sufficient quality to post to github in your portfolio of work that can be shown to a potential employer.\n",
    "</div>\n",
    "\n",
    "## Grading Rubric\n",
    "\n",
    "Category | Poor (0-70%) | Good (70% - 85%) | Excellent (85%-100%)\n",
    ":---: | :--- | :--- | :---\n",
    "**Narrative** | There is very little narrative. Background information is not present or lacks detail. There is no story woven with the code. Mathematical markup is not used. No citations are included. | There is a narrative, but significant parts are missing. The writing does not flow. Sections headings are sparse. Mathematical markup is poor or insufficient. More and better citations are needed. | There is flow, and a clear storyline. Section headings are used to provide an outline. Mathematical markup is used correctly and sufficiently to display mathematics. Citations are sufficient in number and quality.\n",
    "**Code** | Code is missing or is not functional. Nothing is done to demonstrate that the code is operating correctly. Code is difficult to read. Results are missing or seriously incomplete. Visualization is not included. Units are inconsistent or incorrect. Algorithm is implemented incorrectly or the wrong algorithm chosen. There is significant error. | Code is mostly correct and the implementation or algorithm is a good method to use. Visualization is present, but titles and axes labels need improvement or visualization can be improved. Code is understandable and somewhat commented. Units are mostly consistent and correct.| The code runs flawlessly and is well-organized. The code is easy to read and understand. Units are indicated, consistent, and correct. Visualization is excellent. Techniques and algorithms are well-chosen and correctly implemented. Results are clear and understandable.\n",
    "**Difficulty** | The difficulty level is far beneath what one is capable of | The difficulty level is beneath what one is capable of. | The difficulty is well-matched to one's ablity.\n",
    "\n",
    "<div class=\"alert alert-success\">\n",
    "Your project should be in a separate notebook in this repository. You may write VPython programs in a separate `.py` file if this is more effective than including it in the notebook.\n",
    "</div>"
   ]
  },
  {
   "cell_type": "markdown",
   "metadata": {},
   "source": [
    "## Project Ideas\n",
    "\n",
    "### Linear Motion\n",
    "\n",
    "For one-dimensional linear motion, your differential equations will be described by the definition of linear velocity and the Momentum Principle (Newton's Second Law):\n",
    "\n",
    "$$\\frac{dx}{dt} = v_x$$\n",
    "\n",
    "$$\\frac{d v_x}{dt} = \\frac{F_{net,x}}{m}$$\n",
    "\n",
    "For motion in two or three dimensions, you will have these same differential equations in each dimension. So motion in three dimensions will be described by six differential equations:\n",
    "\n",
    "$$\\frac{dx}{dt} = v_x \\qquad \\frac{dy}{dt} = v_y \\qquad \\frac{dz}{dt} = v_z$$\n",
    "\n",
    "$$\\frac{d v_x}{dt} = \\frac{F_{net,x}}{m} \\qquad \\frac{d v_y}{dt} = \\frac{F_{net,y}}{m} \\qquad \\frac{d v_y}{dt} = \\frac{F_{net,y}}{m}$$\n",
    "\n",
    "\n",
    "### Rotational Motion About the CM\n",
    "\n",
    "For rotational motion about the CM in a plane, use the definition of angular velocity and the Angular Momentum Principle applied at the CM. The moment of inertai about the CM is $I_{CM}$.\n",
    "\n",
    "$$\\frac{d\\theta}{dt} = \\omega_z$$\n",
    "\n",
    "$$\\frac{d \\omega_z}{dt} = \\frac{\\tau_{net,z,CM}}{I_{CM}}$$"
   ]
  },
  {
   "cell_type": "markdown",
   "metadata": {},
   "source": [
    "### Option 1 -- Lissajous Figures\n",
    "\n",
    "Lissajous figures arise from the motion of a two-dimensional harmonic oscillator described by:\n",
    "\n",
    "$$\\vec{F}_{net}=\\langle -k_1x, -k_2y, 0 \\rangle$$\n",
    "\n",
    "where $x$ and $y$ are coordinates in the x-y plane and $k$ is a characteristic \"stiffness\" of the motion in N/m. The stiffnesses $k$ can be written more generally as:\n",
    "\n",
    "$$k=m\\omega^2$$\n",
    "\n",
    "so the force can be written:\n",
    "\n",
    "$$\\vec{F}_{net}=\\langle -m\\omega_1^2x, -m\\omega_2^2y, 0 \\rangle$$\n",
    "\n",
    "When the ratio $\\omega_1/\\omega_2$ is equal to a ratio of integers like $1/2$, $1/3$, $2/3$, $2/1$, $3/2$, etc. interesting patterns in a graph of $y(x)$ (the \"motion\") emerge. With observation, you can learn to identify the ratio $\\omega_1/\\omega_2$ by simply looking at the pattern.\n",
    "\n",
    "1. Write a narrative, integrated with code, that describes Lissajous Figures.\n",
    "1. Use and reference at least one quality source about Lissajous Figures.\n",
    "2. Model a two-dimensional harmonic oscillator by solving the momentum principle for this system.\n",
    "3. Explore the model by viewing the motion $y(x)$ with various integer ratios of $\\omega_1/\\omega_2$. Describe a way to identify the ratio by the motion.\n",
    "4. Explore the effect of different initial conditions on your model.\n"
   ]
  },
  {
   "cell_type": "markdown",
   "metadata": {},
   "source": [
    "### Option 2 -- Game\n",
    "\n",
    "Create a game that uses solutions to ODEs. Here are a few examples:\n",
    "\n",
    "1. [Electric Field Hockey](https://www.matterandinteractions.org/glowscript/EFH.html). Place charges around the scene in order to affect the motion of a mobile charge. Get the charge into the net.\n",
    "2. [Lunar Lander](https://www.glowscript.org/#/user/Aaron_Titus/folder/picup/program/lunar-lander). Include gameplay elements like finite fuel (and a constant fuel burn rate).\n",
    "3. [Asteroids](https://www.glowscript.org/#/user/Aaron_Titus/folder/physics-for-video-games/program/GAME-Asteroids). Include tangential thrusters and correct rotational motion for super-challenging, albeit physically correct, gameplay.\n",
    "4. Model the motion of a hovercraft taxi in 2-D that has a horizontally applied force (via a leaf blower of course) that is not necessarily applied along an axis through the center of mass of the system. Add elements of gameplay to the model."
   ]
  },
  {
   "cell_type": "markdown",
   "metadata": {},
   "source": []
  },
  {
   "cell_type": "code",
   "execution_count": null,
   "metadata": {},
   "outputs": [],
   "source": []
  },
  {
   "cell_type": "markdown",
   "metadata": {},
   "source": [
    "### Option 3\n",
    "\n",
    "Create your own program that meets the objectives of this project."
   ]
  },
  {
   "cell_type": "code",
   "execution_count": null,
   "metadata": {},
   "outputs": [],
   "source": []
  }
 ],
 "metadata": {
  "kernelspec": {
   "display_name": "Python 3",
   "language": "python",
   "name": "python3"
  },
  "language_info": {
   "codemirror_mode": {
    "name": "ipython",
    "version": 3
   },
   "file_extension": ".py",
   "mimetype": "text/x-python",
   "name": "python",
   "nbconvert_exporter": "python",
   "pygments_lexer": "ipython3",
   "version": "3.8.5"
  }
 },
 "nbformat": 4,
 "nbformat_minor": 4
}
