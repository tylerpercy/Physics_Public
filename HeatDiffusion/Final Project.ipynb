{
 "cells": [
  {
   "cell_type": "markdown",
   "metadata": {},
   "source": [
    "# Final Project - Heat Diffusion\n",
    "\n",
    "## Tyler Percy"
   ]
  },
  {
   "cell_type": "markdown",
   "metadata": {},
   "source": [
    "### What I was investigating...\n",
    "\n",
    "The purpose of this project was to experiment with heat diffusion across a 2D, and eventually, 3D plane.  Specifically, I was curious in seeing how different dimensional planes, initial conditions, and boundary conditions, affected metrics such as the rate of heat transfer from cell to cell."
   ]
  },
  {
   "cell_type": "markdown",
   "metadata": {},
   "source": [
    "### Initial Conditions...\n",
    "\n",
    "The initial conditions I experimented with were a 2 dimensional plane, where the heat source was constant from the top left corner of a 12x12 grid.\n",
    "\n",
    "The initial location of the heat source can be changed via the INIT_LOC constant in the 2D.py code, or in the jupyter implementation you will see below"
   ]
  },
  {
   "cell_type": "markdown",
   "metadata": {},
   "source": [
    "### The Code!\n",
    "\n",
    "Disclaimer: After walking through the code once in this notebook, I would recommend running it using the .py files that are also included in this repo, as they generally produce higher quality outputs."
   ]
  },
  {
   "cell_type": "code",
   "execution_count": 2,
   "metadata": {},
   "outputs": [
    {
     "data": {
      "text/html": [
       "<div id=\"glowscript\" class=\"glowscript\"></div>"
      ],
      "text/plain": [
       "<IPython.core.display.HTML object>"
      ]
     },
     "metadata": {},
     "output_type": "display_data"
    },
    {
     "data": {
      "application/javascript": [
       "if (typeof Jupyter !== \"undefined\") { window.__context = { glowscript_container: $(\"#glowscript\").removeAttr(\"id\")};}else{ element.textContent = ' ';}"
      ],
      "text/plain": [
       "<IPython.core.display.Javascript object>"
      ]
     },
     "metadata": {},
     "output_type": "display_data"
    }
   ],
   "source": [
    "from vpython import *"
   ]
  },
  {
   "cell_type": "markdown",
   "metadata": {},
   "source": [
    "### Constants \n",
    "\n",
    "These variables can be changed to experiment with different initial conditions.\n",
    "\n",
    "for example, n is how many iterations you want the program to run for,\n",
    "x and y are the size of your grid, but they must stay as the same number"
   ]
  },
  {
   "cell_type": "code",
   "execution_count": 3,
   "metadata": {},
   "outputs": [],
   "source": [
    "DEBUG_MODE = 0\n",
    "CONSTANT_HEAT_SOURCE = 1 # Keep this as 1 for now\n",
    "RATE = 4\n",
    "INIT_LOC = 0 # can be anything from 0 to x\n",
    "n = 120\n",
    "r = 0.1  \n",
    "x = 12   \n",
    "y = 12"
   ]
  },
  {
   "cell_type": "markdown",
   "metadata": {},
   "source": [
    "### Print Grid\n",
    "\n",
    "This function outputs the new iteration of the grid to the screen, with the correctly updated heat values"
   ]
  },
  {
   "cell_type": "code",
   "execution_count": 4,
   "metadata": {},
   "outputs": [],
   "source": [
    "def print_grid(grid, x, y):\n",
    "    for i in range(0, x):\n",
    "        for j in range(0, y):\n",
    "            print(\"{:.02f}\\t\".format(grid[i][j]), end = \"\")\n",
    "        print()"
   ]
  },
  {
   "cell_type": "markdown",
   "metadata": {},
   "source": [
    "### Get New Cell Temp\n",
    "\n",
    "The bulk of the calculations are done here.  The if statements handle all of the potential conditions in which temperature needs to be updated.  The reason there are so many of them is because depending on the amount of adjacent squares, you will need to use a formula with slightly tweaked values to ensure the calculations are accurate.\n",
    "\n"
   ]
  },
  {
   "cell_type": "code",
   "execution_count": 5,
   "metadata": {},
   "outputs": [],
   "source": [
    "def get_new_cell_temp(temps, r, i, j, x, y):\n",
    "\n",
    "    if DEBUG_MODE:\n",
    "        print(f\"x: {i} y: {j}\")\n",
    "\n",
    "    # starting coordinate\n",
    "    if i == j == 0:\n",
    "        delta_ti = (2 * r * (((temps[i+1][j] + temps[i][j+1]) / 2) - temps[i][j]))\n",
    "    # along 0 < j < y-1\n",
    "    elif j == 0 and 0 < i < x-1:\n",
    "        delta_ti = (3 * r * (((temps[i-1][j] + temps[i+1][j] + temps[i][j+1]) / 3) - temps[i][j]))\n",
    "    # along 0 < i < x-1\n",
    "    elif i == 0 and 0 < j < y-1:\n",
    "        delta_ti = (3 * r * (((temps[i+1][j] + temps[i][j-1] + temps[i][j+1]) / 3) - temps[i][j]))\n",
    "    # final coordinate\n",
    "    elif i == x-1 and j == y-1:\n",
    "        delta_ti = (2 * r * (((temps[i-1][j] + temps[i][j-1]) / 2) - temps[i][j]))\n",
    "    # along j = y-1\n",
    "    elif j == y-1:\n",
    "        delta_ti = (3 * r * (((temps[i+1][j] + temps[i-1][j] + temps[i][j-1]) / 3) - temps[i][j]))\n",
    "    # along i = x-1\n",
    "    elif i == x-1:\n",
    "        delta_ti = (3 * r * (((temps[i-1][j] + temps[i][j+1] + temps[i][j-1]) / 3) - temps[i][j]))\n",
    "    # any other coordinate touched by 4 adjacent cells\n",
    "    else:\n",
    "        delta_ti = (4 * r * (((temps[i-1][j] + temps[i+1][j] + temps[i][j-1] + temps[i][j+1]) / 4) - temps[i][j]))\n",
    "\n",
    "    return delta_ti"
   ]
  },
  {
   "cell_type": "markdown",
   "metadata": {},
   "source": [
    "### Is Edge\n",
    "\n",
    "This function simply calculates if the cell in question is on the boundary of the grid."
   ]
  },
  {
   "cell_type": "code",
   "execution_count": 6,
   "metadata": {},
   "outputs": [],
   "source": [
    "def is_edge(grid, i, j, x, y):\n",
    "    if i == 0 or j == 0 or i == x-1 or j == y-1:\n",
    "        return True\n",
    "    else:\n",
    "        return False"
   ]
  },
  {
   "cell_type": "markdown",
   "metadata": {},
   "source": [
    "### Main\n",
    "\n",
    "Handles the setup and execution of the logical functions above.\n",
    "\n",
    "##### Running this next cell after running the above cells will produce an output"
   ]
  },
  {
   "cell_type": "code",
   "execution_count": null,
   "metadata": {},
   "outputs": [],
   "source": [
    "def main():\n",
    "\n",
    "    ''' Initial conditions for the grids '''\n",
    "\n",
    "    scene = canvas(center= vec(5,-5,0), userzoom= False)\n",
    "    lbl = label(pos= vec(1,2,0), text= \"Processing...\")\n",
    "    lbl_temps = label(pos= vec(8,2,0))\n",
    "    boxes = [[box(pos= vec(i, -j, 0)) for i in range(x)] for j in range(y)]\n",
    "\n",
    "    for i in range(x):\n",
    "        for j in range(y):\n",
    "            boxes[i][j].rotate(angle= 180,axis= vec(0,1,0))\n",
    "\n",
    "    grid = [[0 for _ in range(x)] for _ in range(y)]\n",
    "    temps = [[0 for _ in range(x)] for _ in range(y)]\n",
    "\n",
    "    grid[INIT_LOC][INIT_LOC] = 100\n",
    "    temps[INIT_LOC][INIT_LOC] = 100\n",
    "    boxes[INIT_LOC][INIT_LOC].color = vec(50,0,0)\n",
    "\n",
    "    # default grid\n",
    "    if DEBUG_MODE:\n",
    "        print_grid(grid, x, y)\n",
    "\n",
    "    for i in range(n):\n",
    "        rate(RATE)\n",
    "        # Print current iteration of main loop\n",
    "        if DEBUG_MODE:\n",
    "            print(f\"Iteration: {i+1}\")\n",
    "\n",
    "        for i in range(x):\n",
    "            for j in range(y):\n",
    "                if CONSTANT_HEAT_SOURCE:\n",
    "                    grid[INIT_LOC][INIT_LOC] = 100\n",
    "                    temps[INIT_LOC][INIT_LOC] = 100\n",
    "                    boxes[INIT_LOC][INIT_LOC].color = vec(50,0,0)\n",
    "                delta_ti = get_new_cell_temp(temps, r, i, j, x, y)\n",
    "\n",
    "                # print return value of update_cell_temp\n",
    "                if DEBUG_MODE:\n",
    "                    print(f\"delta_ti: {delta_ti}\")\n",
    "\n",
    "                grid[i][j] += delta_ti\n",
    "                boxes[i][j].color += vec(delta_ti/10,delta_ti/25,delta_ti/50)\n",
    "\n",
    "        temps = grid\n",
    "\n",
    "    lbl.text = \"Finished.\"\n",
    "\n",
    "    if DEBUG_MODE:\n",
    "        print()\n",
    "        print_grid(grid, x, y)\n",
    "\n",
    "    while(True):\n",
    "        for i in range(x):\n",
    "            for j in range(y):\n",
    "                if boxes[i][j] == scene.mouse.pick:\n",
    "                    lbl_temps.text = \"{:.02f}% heated\".format(temps[i][j])\n",
    "\n",
    "\n",
    "if __name__ == \"__main__\":\n",
    "    main()\n"
   ]
  },
  {
   "cell_type": "markdown",
   "metadata": {},
   "source": [
    "### Output\n",
    "\n",
    "As you can see, the heat spread from the top corner of the grid, until all the iterations were complete.  You may notice how it did not fill up the entire grid.  This is because of two potential factors.\n",
    "\n",
    "A.  As the heat begins to spread out across the grid, more calculations must be made in order to transfer heat to adjacent cells.  Since more and more cells are being contacted by other cells, it means less heat is being transfered to each cell, meaning the process takes much longer the more cells are being operated on.\n",
    "\n",
    "B.  It is also possible that there are not enough iterations in the program in order to sufficiently heat those bottom right cells.  This is easily amendable by increasing the amount of iterations using the n variable under constants."
   ]
  },
  {
   "cell_type": "markdown",
   "metadata": {},
   "source": [
    "### Lets try a different condition!"
   ]
  },
  {
   "cell_type": "code",
   "execution_count": 1,
   "metadata": {},
   "outputs": [
    {
     "ename": "NameError",
     "evalue": "name 'canvas' is not defined",
     "output_type": "error",
     "traceback": [
      "\u001b[0;31m---------------------------------------------------------------------------\u001b[0m",
      "\u001b[0;31mNameError\u001b[0m                                 Traceback (most recent call last)",
      "\u001b[0;32m<ipython-input-1-e1ecb8acbc82>\u001b[0m in \u001b[0;36m<module>\u001b[0;34m\u001b[0m\n\u001b[1;32m     63\u001b[0m \u001b[0;34m\u001b[0m\u001b[0m\n\u001b[1;32m     64\u001b[0m \u001b[0;32mif\u001b[0m \u001b[0m__name__\u001b[0m \u001b[0;34m==\u001b[0m \u001b[0;34m\"__main__\"\u001b[0m\u001b[0;34m:\u001b[0m\u001b[0;34m\u001b[0m\u001b[0;34m\u001b[0m\u001b[0m\n\u001b[0;32m---> 65\u001b[0;31m     \u001b[0mmain\u001b[0m\u001b[0;34m(\u001b[0m\u001b[0;34m)\u001b[0m\u001b[0;34m\u001b[0m\u001b[0;34m\u001b[0m\u001b[0m\n\u001b[0m",
      "\u001b[0;32m<ipython-input-1-e1ecb8acbc82>\u001b[0m in \u001b[0;36mmain\u001b[0;34m()\u001b[0m\n\u001b[1;32m      3\u001b[0m     \u001b[0;34m''' Initial conditions for the grids '''\u001b[0m\u001b[0;34m\u001b[0m\u001b[0;34m\u001b[0m\u001b[0m\n\u001b[1;32m      4\u001b[0m \u001b[0;34m\u001b[0m\u001b[0m\n\u001b[0;32m----> 5\u001b[0;31m     \u001b[0mscene\u001b[0m \u001b[0;34m=\u001b[0m \u001b[0mcanvas\u001b[0m\u001b[0;34m(\u001b[0m\u001b[0mcenter\u001b[0m\u001b[0;34m=\u001b[0m \u001b[0mvec\u001b[0m\u001b[0;34m(\u001b[0m\u001b[0;36m5\u001b[0m\u001b[0;34m,\u001b[0m\u001b[0;34m-\u001b[0m\u001b[0;36m5\u001b[0m\u001b[0;34m,\u001b[0m\u001b[0;36m0\u001b[0m\u001b[0;34m)\u001b[0m\u001b[0;34m,\u001b[0m \u001b[0muserzoom\u001b[0m\u001b[0;34m=\u001b[0m \u001b[0;32mFalse\u001b[0m\u001b[0;34m)\u001b[0m\u001b[0;34m\u001b[0m\u001b[0;34m\u001b[0m\u001b[0m\n\u001b[0m\u001b[1;32m      6\u001b[0m     \u001b[0mlbl\u001b[0m \u001b[0;34m=\u001b[0m \u001b[0mlabel\u001b[0m\u001b[0;34m(\u001b[0m\u001b[0mpos\u001b[0m\u001b[0;34m=\u001b[0m \u001b[0mvec\u001b[0m\u001b[0;34m(\u001b[0m\u001b[0;36m1\u001b[0m\u001b[0;34m,\u001b[0m\u001b[0;36m2\u001b[0m\u001b[0;34m,\u001b[0m\u001b[0;36m0\u001b[0m\u001b[0;34m)\u001b[0m\u001b[0;34m,\u001b[0m \u001b[0mtext\u001b[0m\u001b[0;34m=\u001b[0m \u001b[0;34m\"Processing...\"\u001b[0m\u001b[0;34m)\u001b[0m\u001b[0;34m\u001b[0m\u001b[0;34m\u001b[0m\u001b[0m\n\u001b[1;32m      7\u001b[0m     \u001b[0mlbl_temps\u001b[0m \u001b[0;34m=\u001b[0m \u001b[0mlabel\u001b[0m\u001b[0;34m(\u001b[0m\u001b[0mpos\u001b[0m\u001b[0;34m=\u001b[0m \u001b[0mvec\u001b[0m\u001b[0;34m(\u001b[0m\u001b[0;36m8\u001b[0m\u001b[0;34m,\u001b[0m\u001b[0;36m2\u001b[0m\u001b[0;34m,\u001b[0m\u001b[0;36m0\u001b[0m\u001b[0;34m)\u001b[0m\u001b[0;34m)\u001b[0m\u001b[0;34m\u001b[0m\u001b[0;34m\u001b[0m\u001b[0m\n",
      "\u001b[0;31mNameError\u001b[0m: name 'canvas' is not defined"
     ]
    }
   ],
   "source": [
    "def main():\n",
    "\n",
    "    ''' Initial conditions for the grids '''\n",
    "\n",
    "    scene = canvas(center= vec(5,-5,0), userzoom= False)\n",
    "    lbl = label(pos= vec(1,2,0), text= \"Processing...\")\n",
    "    lbl_temps = label(pos= vec(8,2,0))\n",
    "    boxes = [[box(pos= vec(i, -j, 0)) for i in range(x)] for j in range(y)]\n",
    "\n",
    "    for i in range(x):\n",
    "        for j in range(y):\n",
    "            boxes[i][j].rotate(angle= 180, axis= vec(0,1,0))\n",
    "\n",
    "    grid = [[0 for _ in range(x)] for _ in range(y)]\n",
    "    temps = [[0 for _ in range(x)] for _ in range(y)]\n",
    "\n",
    "    for i in range(x):\n",
    "        for j in range(y):\n",
    "            if is_edge(grid, i, j, x, y):\n",
    "                grid[i][j] = 100\n",
    "                temps[i][j] = 100\n",
    "                boxes[i][j].color = vec(50,0,0)\n",
    "\n",
    "    # default grid\n",
    "    if DEBUG_MODE:\n",
    "        print_grid(grid, x, y)\n",
    "\n",
    "    for i in range(n):\n",
    "        rate(RATE)\n",
    "        # Print current iteration of main loop\n",
    "        if DEBUG_MODE:\n",
    "            print(f\"Iteration: {i+1}\")\n",
    "\n",
    "        for i in range(x):\n",
    "            for j in range(y):\n",
    "                if is_edge(grid, i, j, x, y):\n",
    "                    grid[i][j] = 100\n",
    "                    temps[i][j] = 100\n",
    "                    boxes[i][j].color = vec(50,0,0)\n",
    "                delta_ti = get_new_cell_temp(temps, r, i, j, x, y)\n",
    "\n",
    "                # print return value of update_cell_temp\n",
    "                if DEBUG_MODE:\n",
    "                    print(f\"delta_ti: {delta_ti}\")\n",
    "\n",
    "                grid[i][j] += delta_ti\n",
    "                boxes[i][j].color += vec(delta_ti/50,delta_ti/100,delta_ti/200)\n",
    "\n",
    "        temps = grid\n",
    "\n",
    "    lbl.text = \"Finished.\"\n",
    "\n",
    "    if DEBUG_MODE:\n",
    "        print()\n",
    "        print_grid(grid, x, y)\n",
    "\n",
    "    while(True):\n",
    "        for i in range(x):\n",
    "            for j in range(y):\n",
    "                if boxes[i][j] == scene.mouse.pick:\n",
    "                    lbl_temps.text = \"{:.02f}% heated\".format(temps[i][j])\n",
    "\n",
    "\n",
    "if __name__ == \"__main__\":\n",
    "    main()"
   ]
  },
  {
   "cell_type": "markdown",
   "metadata": {},
   "source": [
    "### Output\n",
    "\n",
    "As you can see, the initial conditions for this simulation were very different.  Instead of having one constant heat source coming from the top left corner, the entire boundary of the grid was a constant heat source.  This caused the entire square to quickly become nearly fully heated."
   ]
  },
  {
   "cell_type": "markdown",
   "metadata": {},
   "source": [
    "### Okay, one more..."
   ]
  },
  {
   "cell_type": "code",
   "execution_count": null,
   "metadata": {
    "scrolled": true
   },
   "outputs": [],
   "source": [
    "def main():\n",
    "\n",
    "    ''' Initial conditions for the grids '''\n",
    "\n",
    "    scene = canvas(center= vec(5,-5,0), userzoom= False)\n",
    "    lbl = label(pos= vec(1,2,0), text= \"Processing...\")\n",
    "    lbl_temps = label(pos= vec(8,2,0))\n",
    "    boxes = [[box(pos= vec(i, -j, 0)) for i in range(x)] for j in range(y)]\n",
    "\n",
    "    for i in range(x):\n",
    "        for j in range(y):\n",
    "            boxes[i][j].rotate(angle= 180,axis= vec(0,1,0))\n",
    "\n",
    "    grid = [[0 for _ in range(x)] for _ in range(y)]\n",
    "    temps = [[0 for _ in range(x)] for _ in range(y)]\n",
    "\n",
    "    grid[6][6] = 100\n",
    "    temps[6][6] = 100\n",
    "    boxes[6][6].color = vec(50,0,0)\n",
    "\n",
    "    # default grid\n",
    "    if DEBUG_MODE:\n",
    "        print_grid(grid, x, y)\n",
    "\n",
    "    for i in range(n):\n",
    "        rate(RATE)\n",
    "        # Print current iteration of main loop\n",
    "        if DEBUG_MODE:\n",
    "            print(f\"Iteration: {i+1}\")\n",
    "\n",
    "        for i in range(x):\n",
    "            for j in range(y):\n",
    "                if CONSTANT_HEAT_SOURCE:\n",
    "                    grid[6][6] = 100\n",
    "                    temps[6][6] = 100\n",
    "                    boxes[6][6].color = vec(50,0,0)\n",
    "                delta_ti = get_new_cell_temp(temps, r, i, j, x, y)\n",
    "\n",
    "                # print return value of update_cell_temp\n",
    "                if DEBUG_MODE:\n",
    "                    print(f\"delta_ti: {delta_ti}\")\n",
    "\n",
    "                grid[i][j] += delta_ti\n",
    "                boxes[i][j].color += vec(delta_ti/10,delta_ti/25,delta_ti/50)\n",
    "\n",
    "        temps = grid\n",
    "\n",
    "    lbl.text = \"Finished.\"\n",
    "\n",
    "    if DEBUG_MODE:\n",
    "        print()\n",
    "        print_grid(grid, x, y)\n",
    "\n",
    "    while(True):\n",
    "        for i in range(x):\n",
    "            for j in range(y):\n",
    "                if boxes[i][j] == scene.mouse.pick:\n",
    "                    lbl_temps.text = \"{:.02f}% heated\".format(temps[i][j])\n",
    "\n",
    "\n",
    "if __name__ == \"__main__\":\n",
    "    main()"
   ]
  },
  {
   "cell_type": "markdown",
   "metadata": {},
   "source": [
    "### Output\n",
    "\n",
    "So here, we decided to start towards the middle of the grid, and watch the heat expand outwards.  What I found very interesting was how quickly the heat cascaded out from the center as opposed from the corner.  \n",
    "\n",
    "I deduced that because the heat was able to spread to 4 adjacent squares initially, instead of 2, the rate at which it was able to heat up the grid was twice as fast, since it could hit new squares twice as quickly at a constant 100 heat rate."
   ]
  },
  {
   "cell_type": "markdown",
   "metadata": {},
   "source": [
    "### Conclusions!\n",
    "\n",
    "It appears the rate of heat transfer directly correlated to a few key factors:\n",
    "\n",
    "A.  The amount of iterations the simulation would run.\n",
    "\n",
    "B.  The initial starting location of the constant heat source.\n",
    "\n",
    "C.  The amount of constant heat sources present on the grid."
   ]
  },
  {
   "cell_type": "markdown",
   "metadata": {},
   "source": [
    "### How can we improve this experiment in the future?\n",
    "\n",
    "A few things I would have liked to finish if I had more time:\n",
    "\n",
    "A.  A fully working 3D representation\n",
    "\n",
    "B.  A boundary condition where the heat would 'wrap' around edges and continue over corners.\n",
    "\n",
    "C.  Including diagonals into the equation so adjacency was considered to be up to 8, instead of 4 cells.\n",
    "\n"
   ]
  },
  {
   "cell_type": "code",
   "execution_count": null,
   "metadata": {},
   "outputs": [],
   "source": []
  }
 ],
 "metadata": {
  "kernelspec": {
   "display_name": "Python 3",
   "language": "python",
   "name": "python3"
  },
  "language_info": {
   "codemirror_mode": {
    "name": "ipython",
    "version": 3
   },
   "file_extension": ".py",
   "mimetype": "text/x-python",
   "name": "python",
   "nbconvert_exporter": "python",
   "pygments_lexer": "ipython3",
   "version": "3.8.5"
  }
 },
 "nbformat": 4,
 "nbformat_minor": 4
}
